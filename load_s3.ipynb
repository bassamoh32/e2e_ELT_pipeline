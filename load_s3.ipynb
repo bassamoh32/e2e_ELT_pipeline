{
 "cells": [
  {
   "cell_type": "code",
   "execution_count": 1,
   "id": "4333a19a",
   "metadata": {},
   "outputs": [],
   "source": [
    "import boto3\n",
    "import pandas as pd\n",
    "from faker import Faker\n",
    "import random\n",
    "from datetime import datetime\n",
    "from io import StringIO"
   ]
  },
  {
   "cell_type": "code",
   "execution_count": null,
   "id": "aed4376b",
   "metadata": {},
   "outputs": [],
   "source": [
    "fake = Faker()\n",
    "s3 = boto3.client(\n",
    "    \"s3\",\n",
    "    aws_access_key_id='', # aws access key\n",
    "    aws_secret_access_key='', # aws secret access key\n",
    "    region_name='' # aws region name \n",
    ")"
   ]
  },
  {
   "cell_type": "code",
   "execution_count": 15,
   "id": "eb82aebf",
   "metadata": {},
   "outputs": [],
   "source": [
    "def generate_cdc_order_data(num_rows = 500) :\n",
    "    data = []\n",
    "    for _ in range(num_rows):\n",
    "        order = {\n",
    "            'order_id': fake.uuid4(),\n",
    "            'customer_id': fake.uuid4(),\n",
    "            'order_date': fake.date_this_year(),\n",
    "            'status': random.choice(['CREATED', 'SHIPPED', 'DELIVERED', 'CANCELLED']),\n",
    "            'product_id': fake.uuid4(),\n",
    "            'quantity': random.randint(1, 5),\n",
    "            'price': round(random.uniform(10.0, 500.0), 2),\n",
    "            'total_amount': 0.0,  \n",
    "            'cdc_timestamp': datetime.now()   \n",
    "        }\n",
    "        order['total_amount'] = round(order['quantity'] * order['price'] , 2)\n",
    "        data.append(order)\n",
    "    #convert to Dataframe\n",
    "    df = pd.DataFrame(data)\n",
    "    return df"
   ]
  },
  {
   "cell_type": "code",
   "execution_count": 16,
   "id": "a6f29816",
   "metadata": {},
   "outputs": [
    {
     "name": "stdout",
     "output_type": "stream",
     "text": [
      "Date uploaded to s3://datalakebucket13/cdc/orders_data.csv\n"
     ]
    }
   ],
   "source": [
    "# Function to upload data to S3\n",
    "def upload_to_s3(bucket_name, file_name, df):\n",
    "    csv_buffer = StringIO()\n",
    "    df.to_csv(csv_buffer, index=False)\n",
    "    s3.put_object(Bucket=bucket_name, Key=file_name, Body=csv_buffer.getvalue())\n",
    "    print(f\"Date uploaded to s3://{bucket_name}/{file_name}\")\n",
    "\n",
    "# Generate num_rows rows of fake CDC order data \n",
    "df_cdc_order_data = generate_cdc_order_data(num_rows = 200)\n",
    "\n",
    "# Define S3 bucket  and file path\n",
    "bucket_name = 'datalakebucket13'\n",
    "file_name = 'cdc/orders_data.csv'\n",
    "\n",
    "# Upload the generated data to S3 \n",
    "upload_to_s3(bucket_name, file_name, df_cdc_order_data)"
   ]
  }
 ],
 "metadata": {
  "kernelspec": {
   "display_name": "elt_venv",
   "language": "python",
   "name": "python3"
  },
  "language_info": {
   "codemirror_mode": {
    "name": "ipython",
    "version": 3
   },
   "file_extension": ".py",
   "mimetype": "text/x-python",
   "name": "python",
   "nbconvert_exporter": "python",
   "pygments_lexer": "ipython3",
   "version": "3.9.7"
  }
 },
 "nbformat": 4,
 "nbformat_minor": 5
}
